{
 "cells": [
  {
   "cell_type": "markdown",
   "id": "3b1627b9",
   "metadata": {},
   "source": [
    "## Installs"
   ]
  },
  {
   "cell_type": "code",
   "execution_count": 3,
   "id": "d5892949",
   "metadata": {},
   "outputs": [
    {
     "name": "stdout",
     "output_type": "stream",
     "text": [
      "Found existing installation: mediapipe 0.10.21\n",
      "Uninstalling mediapipe-0.10.21:\n",
      "  Successfully uninstalled mediapipe-0.10.21\n",
      "Collecting numpy<2.3,>=2.0\n",
      "  Using cached numpy-2.2.6-cp311-cp311-win_amd64.whl.metadata (60 kB)\n",
      "Requirement already satisfied: pandas in c:\\users\\plazor\\anaconda3\\envs\\faceexpressions\\lib\\site-packages (2.3.3)\n",
      "Requirement already satisfied: scikit-learn in c:\\users\\plazor\\anaconda3\\envs\\faceexpressions\\lib\\site-packages (1.7.2)\n",
      "Requirement already satisfied: pillow in c:\\users\\plazor\\anaconda3\\envs\\faceexpressions\\lib\\site-packages (11.3.0)\n",
      "Requirement already satisfied: tqdm in c:\\users\\plazor\\anaconda3\\envs\\faceexpressions\\lib\\site-packages (4.67.1)\n",
      "Requirement already satisfied: opencv-python in c:\\users\\plazor\\anaconda3\\envs\\faceexpressions\\lib\\site-packages (4.11.0.86)\n",
      "Collecting opencv-python\n",
      "  Using cached opencv_python-4.12.0.88-cp37-abi3-win_amd64.whl.metadata (19 kB)\n",
      "Requirement already satisfied: matplotlib in c:\\users\\plazor\\anaconda3\\envs\\faceexpressions\\lib\\site-packages (3.10.6)\n",
      "Requirement already satisfied: python-dateutil>=2.8.2 in c:\\users\\plazor\\anaconda3\\envs\\faceexpressions\\lib\\site-packages (from pandas) (2.9.0.post0)\n",
      "Requirement already satisfied: pytz>=2020.1 in c:\\users\\plazor\\anaconda3\\envs\\faceexpressions\\lib\\site-packages (from pandas) (2025.2)\n",
      "Requirement already satisfied: tzdata>=2022.7 in c:\\users\\plazor\\anaconda3\\envs\\faceexpressions\\lib\\site-packages (from pandas) (2025.2)\n",
      "Requirement already satisfied: scipy>=1.8.0 in c:\\users\\plazor\\anaconda3\\envs\\faceexpressions\\lib\\site-packages (from scikit-learn) (1.16.2)\n",
      "Requirement already satisfied: joblib>=1.2.0 in c:\\users\\plazor\\anaconda3\\envs\\faceexpressions\\lib\\site-packages (from scikit-learn) (1.5.2)\n",
      "Requirement already satisfied: threadpoolctl>=3.1.0 in c:\\users\\plazor\\anaconda3\\envs\\faceexpressions\\lib\\site-packages (from scikit-learn) (3.6.0)\n",
      "Requirement already satisfied: colorama in c:\\users\\plazor\\anaconda3\\envs\\faceexpressions\\lib\\site-packages (from tqdm) (0.4.6)\n",
      "Requirement already satisfied: contourpy>=1.0.1 in c:\\users\\plazor\\anaconda3\\envs\\faceexpressions\\lib\\site-packages (from matplotlib) (1.3.3)\n",
      "Requirement already satisfied: cycler>=0.10 in c:\\users\\plazor\\anaconda3\\envs\\faceexpressions\\lib\\site-packages (from matplotlib) (0.12.1)\n",
      "Requirement already satisfied: fonttools>=4.22.0 in c:\\users\\plazor\\anaconda3\\envs\\faceexpressions\\lib\\site-packages (from matplotlib) (4.60.1)\n",
      "Requirement already satisfied: kiwisolver>=1.3.1 in c:\\users\\plazor\\anaconda3\\envs\\faceexpressions\\lib\\site-packages (from matplotlib) (1.4.9)\n",
      "Requirement already satisfied: packaging>=20.0 in c:\\users\\plazor\\anaconda3\\envs\\faceexpressions\\lib\\site-packages (from matplotlib) (25.0)\n",
      "Requirement already satisfied: pyparsing>=2.3.1 in c:\\users\\plazor\\anaconda3\\envs\\faceexpressions\\lib\\site-packages (from matplotlib) (3.2.5)\n",
      "Requirement already satisfied: six>=1.5 in c:\\users\\plazor\\anaconda3\\envs\\faceexpressions\\lib\\site-packages (from python-dateutil>=2.8.2->pandas) (1.17.0)\n",
      "Using cached numpy-2.2.6-cp311-cp311-win_amd64.whl (12.9 MB)\n",
      "Using cached opencv_python-4.12.0.88-cp37-abi3-win_amd64.whl (39.0 MB)\n",
      "Installing collected packages: numpy, opencv-python\n",
      "\n",
      "  Attempting uninstall: numpy\n",
      "\n",
      "    Found existing installation: numpy 1.26.4\n",
      "\n",
      "    Uninstalling numpy-1.26.4:\n",
      "\n",
      "   ---------------------------------------- 0/2 [numpy]\n",
      "   ---------------------------------------- 0/2 [numpy]\n",
      "      Successfully uninstalled numpy-1.26.4\n",
      "   ---------------------------------------- 0/2 [numpy]\n",
      "   ---------------------------------------- 0/2 [numpy]\n",
      "   ---------------------------------------- 0/2 [numpy]\n",
      "   ---------------------------------------- 0/2 [numpy]\n",
      "   ---------------------------------------- 0/2 [numpy]\n",
      "   ---------------------------------------- 0/2 [numpy]\n",
      "   ---------------------------------------- 0/2 [numpy]\n",
      "   ---------------------------------------- 0/2 [numpy]\n",
      "   ---------------------------------------- 0/2 [numpy]\n",
      "   ---------------------------------------- 0/2 [numpy]\n",
      "   ---------------------------------------- 0/2 [numpy]\n",
      "  Attempting uninstall: opencv-python\n",
      "   ---------------------------------------- 0/2 [numpy]\n",
      "    Found existing installation: opencv-python 4.11.0.86\n",
      "   ---------------------------------------- 0/2 [numpy]\n",
      "    Uninstalling opencv-python-4.11.0.86:\n",
      "   ---------------------------------------- 0/2 [numpy]\n",
      "      Successfully uninstalled opencv-python-4.11.0.86\n",
      "   ---------------------------------------- 0/2 [numpy]\n",
      "   -------------------- ------------------- 1/2 [opencv-python]\n",
      "   -------------------- ------------------- 1/2 [opencv-python]\n",
      "   ---------------------------------------- 2/2 [opencv-python]\n",
      "\n",
      "Successfully installed numpy-2.2.6 opencv-python-4.12.0.88\n"
     ]
    }
   ],
   "source": [
    "# %%\n",
    "!pip uninstall -y mediapipe || true\n",
    "!pip install -U \"numpy>=2.0,<2.3\" pandas scikit-learn pillow tqdm opencv-python matplotlib\n"
   ]
  },
  {
   "cell_type": "markdown",
   "id": "dc0f2724",
   "metadata": {},
   "source": [
    "## Data Prep"
   ]
  },
  {
   "cell_type": "code",
   "execution_count": null,
   "id": "b85703be",
   "metadata": {},
   "outputs": [
    {
     "ename": "SystemExit",
     "evalue": "No .zip files found in the current folder. Put the two zips here and re-run.",
     "output_type": "error",
     "traceback": [
      "An exception has occurred, use %tb to see the full traceback.\n",
      "\u001b[31mSystemExit\u001b[39m\u001b[31m:\u001b[39m No .zip files found in the current folder. Put the two zips here and re-run.\n"
     ]
    },
    {
     "name": "stderr",
     "output_type": "stream",
     "text": [
      "c:\\Users\\Plazor\\anaconda3\\envs\\FaceExpressions\\Lib\\site-packages\\IPython\\core\\interactiveshell.py:3707: UserWarning: To exit: use 'exit', 'quit', or Ctrl-D.\n",
      "  warn(\"To exit: use 'exit', 'quit', or Ctrl-D.\", stacklevel=1)\n"
     ]
    }
   ],
   "source": [
    "# %%\n",
    "from pathlib import Path\n",
    "import zipfile, sys, shutil\n",
    "from tqdm import tqdm\n",
    "\n",
    "BASE = Path.cwd()\n",
    "RAW  = BASE / \"data\" / \"raw\"\n",
    "RAW.mkdir(parents=True, exist_ok=True)\n",
    "\n",
    "# --- Find ZIPs heuristically ---\n",
    "zips = list((BASE / \"data\").glob(\"*.zip\"))\n",
    "if not zips:\n",
    "    raise SystemExit(\"No .zip files found in the current folder. Put the two zips here and re-run.\")\n",
    "\n",
    "def pick_zip(zips, must_contain):\n",
    "    must = must_contain.lower()\n",
    "    for z in zips:\n",
    "        name = z.name.lower()\n",
    "        if all(x in name for x in must.split()):\n",
    "            return z\n",
    "    return None\n",
    "\n",
    "aff_zip = pick_zip(zips, \"affec 256\") or pick_zip(zips, \"Affectnet_256\") or pick_zip(zips, \"affect 256\")\n",
    "raf_zip = pick_zip(zips, \"raf\") or pick_zip(zips, \"RAF-DB\") or pick_zip(zips, \"rafdb\")\n",
    "\n",
    "if not aff_zip or not raf_zip:\n",
    "    print(\"I found these ZIPs:\\n - \" + \"\\n - \".join(z.name for z in zips))\n",
    "    raise SystemExit(\n",
    "        \"\\nCould not auto-detect both archives.\\n\"\n",
    "        \"Rename your files so one contains 'affec' and '256', and the other contains 'raf', then re-run.\"\n",
    "    )\n",
    "\n",
    "print(f\"AffectNet ZIP → {aff_zip.name}\")\n",
    "print(f\"RAF-DB   ZIP → {raf_zip.name}\")\n",
    "\n",
    "# --- Extract helpers ---\n",
    "def extract_all(zip_path: Path, dest: Path):\n",
    "    if dest.exists() and any(dest.iterdir()):\n",
    "        print(f\"Already extracted: {dest}\")\n",
    "        return dest\n",
    "    dest.mkdir(parents=True, exist_ok=True)\n",
    "    with zipfile.ZipFile(zip_path, 'r') as zf:\n",
    "        members = zf.infolist()\n",
    "        for m in tqdm(members, desc=f\"Extracting {zip_path.name}\", unit=\"file\"):\n",
    "            zf.extract(m, dest)\n",
    "    return dest\n",
    "\n",
    "AFF_DIR = RAW / \"affectnet256\"\n",
    "RAF_DIR = RAW / \"rafdb\"\n",
    "\n",
    "extract_all(aff_zip, AFF_DIR)\n",
    "extract_all(raf_zip, RAF_DIR)\n",
    "\n",
    "# Quick probe: count images we can see inside each extracted tree\n",
    "IMG_EXTS = {\".jpg\", \".jpeg\", \".png\", \".bmp\"}\n",
    "def count_images(root: Path):\n",
    "    return sum(1 for p in root.rglob(\"*\") if p.suffix.lower() in IMG_EXTS)\n",
    "\n",
    "print(\"\\nFound counts after extraction:\")\n",
    "print(\" - AffectNet-256 images:\", count_images(AFF_DIR))\n",
    "print(\" - RAF-DB images:\",      count_images(RAF_DIR))\n",
    "\n",
    "# Show shallow directory listings to help us confirm structure\n",
    "def peek(root: Path, depth=2, max_items=10):\n",
    "    print(f\"\\nPeek: {root}\")\n",
    "    shown = 0\n",
    "    for p in root.rglob(\"*\"):\n",
    "        rel = p.relative_to(root)\n",
    "        if len(rel.parts) <= depth:\n",
    "            print(\"  \", rel)\n",
    "            shown += 1\n",
    "            if shown >= max_items:\n",
    "                print(\"  ...\")\n",
    "                break\n",
    "\n",
    "peek(AFF_DIR)\n",
    "peek(RAF_DIR)\n"
   ]
  }
 ],
 "metadata": {
  "kernelspec": {
   "display_name": "FaceExpressions",
   "language": "python",
   "name": "python3"
  },
  "language_info": {
   "codemirror_mode": {
    "name": "ipython",
    "version": 3
   },
   "file_extension": ".py",
   "mimetype": "text/x-python",
   "name": "python",
   "nbconvert_exporter": "python",
   "pygments_lexer": "ipython3",
   "version": "3.11.13"
  }
 },
 "nbformat": 4,
 "nbformat_minor": 5
}
